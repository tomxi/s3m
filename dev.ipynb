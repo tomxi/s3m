{
 "cells": [
  {
   "cell_type": "code",
   "execution_count": null,
   "id": "3e8578d0",
   "metadata": {},
   "outputs": [],
   "source": [
    "%load_ext autoreload\n",
    "%autoreload 2\n",
    "\n",
    "import bnl\n",
    "import features as ft\n",
    "\n",
    "slm_ds = bnl.Dataset(\"~/data/salami/metadata.csv\")"
   ]
  },
  {
   "cell_type": "markdown",
   "id": "15f97396",
   "metadata": {},
   "source": [
    "# Get a track, and it's features\n"
   ]
  },
  {
   "cell_type": "code",
   "execution_count": null,
   "id": "2fb822fe",
   "metadata": {},
   "outputs": [],
   "source": [
    "track = slm_ds[626]\n",
    "audio_path = track.info['audio_mp3_path']\n",
    "audio_path"
   ]
  },
  {
   "cell_type": "code",
   "execution_count": null,
   "id": "df9534a6",
   "metadata": {},
   "outputs": [],
   "source": [
    "f, ts = ft.yamnet_emb(audio_path)\n",
    "ft.plot(f, ts)"
   ]
  },
  {
   "cell_type": "code",
   "execution_count": null,
   "id": "89ca101c",
   "metadata": {},
   "outputs": [],
   "source": [
    "import numpy as np\n",
    "import features as ft\n",
    "\n",
    "feat_path = str(audio_path).replace(\"/audio.mp3\", \"_feats.npz\").replace(\"audio\", \"features\")\n",
    "feats = np.load(feat_path)\n",
    "\n",
    "ft.plot(feats, feat_type='crema')"
   ]
  },
  {
   "cell_type": "markdown",
   "id": "3cca8720",
   "metadata": {},
   "source": [
    "# follow ssdm and get the SSM + path_sim"
   ]
  },
  {
   "cell_type": "code",
   "execution_count": null,
   "id": "249e4726",
   "metadata": {},
   "outputs": [],
   "source": [
    "feats['crema'].shape"
   ]
  },
  {
   "cell_type": "code",
   "execution_count": null,
   "id": "f05156eb",
   "metadata": {},
   "outputs": [],
   "source": [
    "import librosa\n",
    "import numpy as np\n",
    "from scipy import sparse\n",
    "\n",
    "def mask_diag(sq_mat, width=2):\n",
    "    # carve out width from the full ssm\n",
    "    sq_mat_lil = sparse.lil_matrix(sq_mat)\n",
    "    for diag in range(-width + 1, width):\n",
    "        sq_mat_lil.setdiag(0, diag)\n",
    "    return sq_mat_lil.toarray()"
   ]
  },
  {
   "cell_type": "code",
   "execution_count": null,
   "id": "9260dd6c",
   "metadata": {},
   "outputs": [],
   "source": [
    "import matplotlib.pyplot as plt\n",
    "rep_f_tyep = 'yamnet'\n",
    "\n",
    "# I need to make sure that the features is longer than width * 2 + 1!\n",
    "data_len = len(feats['ts']) - 1\n",
    "max_width = ((data_len - 1) // 2) - 1\n",
    "width = min(5, max_width)\n",
    "\n",
    "# add a tiny padding to prevent zero division in cosine distance\n",
    "A_rep = librosa.feature.stack_memory(feats[rep_f_tyep], n_steps=4, delay=1)\n",
    "\n",
    "R = librosa.segment.recurrence_matrix(\n",
    "    A_rep, metric='sqeuclidean', mode='affinity', bandwidth='med_k_scalar', sym=True, full=False, width=width\n",
    ")\n",
    "\n",
    "plt.imshow(R)\n",
    "plt.colorbar();"
   ]
  },
  {
   "cell_type": "code",
   "execution_count": null,
   "id": "a8c3849b",
   "metadata": {},
   "outputs": [],
   "source": [
    "\n",
    "plt.imshow(R_sparse)\n",
    "plt.show()"
   ]
  },
  {
   "cell_type": "code",
   "execution_count": null,
   "id": "695e03a4",
   "metadata": {},
   "outputs": [],
   "source": [
    "import scipy\n",
    "def embed_features(A_rep, A_loc, \n",
    "                   config={'rec_width': 13,\n",
    "                           'rec_smooth': 7,\n",
    "                           'evec_smooth': 13,\n",
    "                           'rep_metric': 'cosine'}):\n",
    "\n",
    "    R = librosa.segment.recurrence_matrix(A_rep, width=config['rec_width'],\n",
    "                                          mode='affinity',\n",
    "                                          metric=config['rep_metric'],\n",
    "                                          sym=True)\n",
    "    \n",
    "    \n",
    "    # Enhance diagonals with a median filter (Equation 2)\n",
    "    df = librosa.segment.timelag_filter(scipy.ndimage.median_filter)\n",
    "    Rf = df(R, size=(1, config['rec_smooth']))\n",
    "\n",
    "    path_distance = np.sum(np.diff(A_loc, axis=1)**2, axis=0)\n",
    "    sigma = np.median(path_distance)\n",
    "    path_sim = np.exp(-path_distance / sigma)\n",
    "\n",
    "    R_path = np.diag(path_sim, k=1) + np.diag(path_sim, k=-1)\n",
    "\n",
    "    # And compute the balanced combination (Equations 6, 7, 9)\n",
    "    deg_path = np.sum(R_path, axis=1)\n",
    "    deg_rec = np.sum(Rf, axis=1)\n",
    "\n",
    "    mu = deg_path.dot(deg_path + deg_rec) / np.sum((deg_path + deg_rec)**2)\n",
    "\n",
    "    A = mu * Rf + (1 - mu) * R_path\n",
    "    return A\n",
    "\n",
    "    "
   ]
  },
  {
   "cell_type": "code",
   "execution_count": null,
   "id": "8afeb872",
   "metadata": {},
   "outputs": [],
   "source": []
  },
  {
   "cell_type": "code",
   "execution_count": null,
   "id": "0bdb33bd",
   "metadata": {},
   "outputs": [],
   "source": []
  },
  {
   "cell_type": "code",
   "execution_count": null,
   "id": "372556b8",
   "metadata": {},
   "outputs": [],
   "source": [
    "\n",
    "# follow ssdm and get the combined_graph\n"
   ]
  },
  {
   "cell_type": "code",
   "execution_count": null,
   "id": "b144f391",
   "metadata": {},
   "outputs": [],
   "source": []
  },
  {
   "cell_type": "code",
   "execution_count": null,
   "id": "a8dc72ef",
   "metadata": {},
   "outputs": [],
   "source": []
  },
  {
   "cell_type": "code",
   "execution_count": null,
   "id": "393c7605",
   "metadata": {},
   "outputs": [],
   "source": [
    "\n",
    "# Get the proper laplacian\n"
   ]
  },
  {
   "cell_type": "code",
   "execution_count": null,
   "id": "7629fe52",
   "metadata": {},
   "outputs": [],
   "source": [
    "#####################################################\n",
    "# Now let's compute the normalized Laplacian (Eq. 10)\n",
    "L = scipy.sparse.csgraph.laplacian(A, normed=True)\n",
    "\n",
    "# and its spectral decomposition\n",
    "evals, evecs = scipy.linalg.eigh(L)\n",
    "\n",
    "# We can clean this up further with a median filter.\n",
    "# This can help smooth over small discontinuities\n",
    "evecs = scipy.ndimage.median_filter(evecs, size=(config[\"evec_smooth\"], 1))\n",
    "\n",
    "return evecs"
   ]
  },
  {
   "cell_type": "code",
   "execution_count": null,
   "id": "afda856b",
   "metadata": {},
   "outputs": [],
   "source": [
    "\n",
    "# Get the evecs and get to a bnl.MS object as output"
   ]
  },
  {
   "cell_type": "code",
   "execution_count": null,
   "id": "b30c30f0",
   "metadata": {},
   "outputs": [],
   "source": []
  }
 ],
 "metadata": {
  "kernelspec": {
   "display_name": "py311",
   "language": "python",
   "name": "python3"
  },
  "language_info": {
   "codemirror_mode": {
    "name": "ipython",
    "version": 3
   },
   "file_extension": ".py",
   "mimetype": "text/x-python",
   "name": "python",
   "nbconvert_exporter": "python",
   "pygments_lexer": "ipython3",
   "version": "3.11.13"
  }
 },
 "nbformat": 4,
 "nbformat_minor": 5
}
